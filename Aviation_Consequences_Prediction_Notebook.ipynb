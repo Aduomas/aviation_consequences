{
  "nbformat": 4,
  "nbformat_minor": 0,
  "metadata": {
    "colab": {
      "provenance": [],
      "collapsed_sections": [
        "a2tcgcBP5Up8"
      ],
      "authorship_tag": "ABX9TyMfGb0Bvec93hLkkTeVXXfR",
      "include_colab_link": true
    },
    "kernelspec": {
      "name": "python3",
      "display_name": "Python 3"
    },
    "language_info": {
      "name": "python"
    }
  },
  "cells": [
    {
      "cell_type": "markdown",
      "metadata": {
        "id": "view-in-github",
        "colab_type": "text"
      },
      "source": [
        "<a href=\"https://colab.research.google.com/github/Aduomas/aviation_consequences/blob/main/Aviation_Consequences_Prediction_Notebook.ipynb\" target=\"_parent\"><img src=\"https://colab.research.google.com/assets/colab-badge.svg\" alt=\"Open In Colab\"/></a>"
      ]
    },
    {
      "cell_type": "markdown",
      "source": [
        "Predicting the consequences of aviation accidents using NNs."
      ],
      "metadata": {
        "id": "pSNyhlwC1ZX1"
      }
    },
    {
      "cell_type": "markdown",
      "source": [
        "## Importing Libraries"
      ],
      "metadata": {
        "id": "lSNYk7hV1eye"
      }
    },
    {
      "cell_type": "code",
      "execution_count": 1,
      "metadata": {
        "id": "v33cnk1A1OVi"
      },
      "outputs": [],
      "source": [
        "import numpy as np\n",
        "import pandas as pd\n",
        "\n",
        "import matplotlib.pyplot as plt\n",
        "import seaborn as sns\n",
        "\n",
        "import warnings\n",
        "warnings.filterwarnings(action='ignore')"
      ]
    },
    {
      "cell_type": "markdown",
      "source": [
        "## Importing dataset"
      ],
      "metadata": {
        "id": "DyvDtIec1vXb"
      }
    },
    {
      "cell_type": "code",
      "source": [
        "!gdown --id 1pF1VFVXc8GpXWFSAML5impQLvCwON4k4"
      ],
      "metadata": {
        "colab": {
          "base_uri": "https://localhost:8080/"
        },
        "id": "_xNZlvrU382G",
        "outputId": "1f09eb54-d970-4627-9e41-35a67e13c9d6"
      },
      "execution_count": 3,
      "outputs": [
        {
          "output_type": "stream",
          "name": "stdout",
          "text": [
            "/usr/local/lib/python3.8/dist-packages/gdown/cli.py:127: FutureWarning: Option `--id` was deprecated in version 4.3.1 and will be removed in 5.0. You don't need to pass it anymore to use a file ID.\n",
            "  warnings.warn(\n",
            "Downloading...\n",
            "From: https://drive.google.com/uc?id=1pF1VFVXc8GpXWFSAML5impQLvCwON4k4\n",
            "To: /content/data.xlsx\n",
            "100% 123k/123k [00:00<00:00, 39.8MB/s]\n"
          ]
        }
      ]
    },
    {
      "cell_type": "code",
      "source": [
        "df = pd.read_excel('data.xlsx')\n",
        "df.head(2)"
      ],
      "metadata": {
        "colab": {
          "base_uri": "https://localhost:8080/",
          "height": 448
        },
        "id": "1qLa0O601t6U",
        "outputId": "1503a7da-92b1-47f1-bd0b-b64746b115cc"
      },
      "execution_count": 4,
      "outputs": [
        {
          "output_type": "execute_result",
          "data": {
            "text/plain": [
              "                ye  FROM  TO FLIGHT PHASE IMC/VMC  \\\n",
              "0  Airbus A300-600   NaN NaN     Approach     VMC   \n",
              "1  Airbus A300-600   NaN NaN      Descent     IMC   \n",
              "\n",
              "                                               CAUSE  \\\n",
              "0  Inadequate Maintenance Schedule, Component Fau...   \n",
              "1  Approach not stabilised, Non Precision Approac...   \n",
              "\n",
              "                                        HUMAN FACTOR        DATE PAX/CARGO  \\\n",
              "0  skills deficiency, Manual Handling, Ineffectiv...  2011 01-10     CARGO   \n",
              "1  Fatigue, Procedural non compliance, Ineffectiv...  14/08/2013     CARGO   \n",
              "\n",
              "  DAY/NIGHT  ...     Authority Gradient     Distraction     Stress  \\\n",
              "0     NIGHT  ...  NO Authority Gradient  NO Distraction  NO Stress   \n",
              "1     NIGHT  ...  NO Authority Gradient  NO Distraction  NO Stress   \n",
              "\n",
              "      Malicious Interference     status awareness  \\\n",
              "0  NO Malicious Interference  NO status awareness   \n",
              "1  NO Malicious Interference  NO status awareness   \n",
              "\n",
              "      Pre Flight Data Input Error     Flight / Cabin Crew Co-operation  \\\n",
              "0  NO Pre Flight Data Input Error  NO Flight / Cabin Crew Co-operation   \n",
              "1  NO Pre Flight Data Input Error  NO Flight / Cabin Crew Co-operation   \n",
              "\n",
              "      Pressure altimeter setting error     Pilot Startle Response  \\\n",
              "0  NO Pressure altimeter setting error  NO Pilot Startle Response   \n",
              "1  NO Pressure altimeter setting error  NO Pilot Startle Response   \n",
              "\n",
              "      Flight Crew / Ground Crew Co-operation  \n",
              "0  NO Flight Crew / Ground Crew Co-operation  \n",
              "1  NO Flight Crew / Ground Crew Co-operation  \n",
              "\n",
              "[2 rows x 40 columns]"
            ],
            "text/html": [
              "\n",
              "  <div id=\"df-65d0d68f-6103-412a-b944-38fd61749607\">\n",
              "    <div class=\"colab-df-container\">\n",
              "      <div>\n",
              "<style scoped>\n",
              "    .dataframe tbody tr th:only-of-type {\n",
              "        vertical-align: middle;\n",
              "    }\n",
              "\n",
              "    .dataframe tbody tr th {\n",
              "        vertical-align: top;\n",
              "    }\n",
              "\n",
              "    .dataframe thead th {\n",
              "        text-align: right;\n",
              "    }\n",
              "</style>\n",
              "<table border=\"1\" class=\"dataframe\">\n",
              "  <thead>\n",
              "    <tr style=\"text-align: right;\">\n",
              "      <th></th>\n",
              "      <th>ye</th>\n",
              "      <th>FROM</th>\n",
              "      <th>TO</th>\n",
              "      <th>FLIGHT PHASE</th>\n",
              "      <th>IMC/VMC</th>\n",
              "      <th>CAUSE</th>\n",
              "      <th>HUMAN FACTOR</th>\n",
              "      <th>DATE</th>\n",
              "      <th>PAX/CARGO</th>\n",
              "      <th>DAY/NIGHT</th>\n",
              "      <th>...</th>\n",
              "      <th>Authority Gradient</th>\n",
              "      <th>Distraction</th>\n",
              "      <th>Stress</th>\n",
              "      <th>Malicious Interference</th>\n",
              "      <th>status awareness</th>\n",
              "      <th>Pre Flight Data Input Error</th>\n",
              "      <th>Flight / Cabin Crew Co-operation</th>\n",
              "      <th>Pressure altimeter setting error</th>\n",
              "      <th>Pilot Startle Response</th>\n",
              "      <th>Flight Crew / Ground Crew Co-operation</th>\n",
              "    </tr>\n",
              "  </thead>\n",
              "  <tbody>\n",
              "    <tr>\n",
              "      <th>0</th>\n",
              "      <td>Airbus A300-600</td>\n",
              "      <td>NaN</td>\n",
              "      <td>NaN</td>\n",
              "      <td>Approach</td>\n",
              "      <td>VMC</td>\n",
              "      <td>Inadequate Maintenance Schedule, Component Fau...</td>\n",
              "      <td>skills deficiency, Manual Handling, Ineffectiv...</td>\n",
              "      <td>2011 01-10</td>\n",
              "      <td>CARGO</td>\n",
              "      <td>NIGHT</td>\n",
              "      <td>...</td>\n",
              "      <td>NO Authority Gradient</td>\n",
              "      <td>NO Distraction</td>\n",
              "      <td>NO Stress</td>\n",
              "      <td>NO Malicious Interference</td>\n",
              "      <td>NO status awareness</td>\n",
              "      <td>NO Pre Flight Data Input Error</td>\n",
              "      <td>NO Flight / Cabin Crew Co-operation</td>\n",
              "      <td>NO Pressure altimeter setting error</td>\n",
              "      <td>NO Pilot Startle Response</td>\n",
              "      <td>NO Flight Crew / Ground Crew Co-operation</td>\n",
              "    </tr>\n",
              "    <tr>\n",
              "      <th>1</th>\n",
              "      <td>Airbus A300-600</td>\n",
              "      <td>NaN</td>\n",
              "      <td>NaN</td>\n",
              "      <td>Descent</td>\n",
              "      <td>IMC</td>\n",
              "      <td>Approach not stabilised, Non Precision Approac...</td>\n",
              "      <td>Fatigue, Procedural non compliance, Ineffectiv...</td>\n",
              "      <td>14/08/2013</td>\n",
              "      <td>CARGO</td>\n",
              "      <td>NIGHT</td>\n",
              "      <td>...</td>\n",
              "      <td>NO Authority Gradient</td>\n",
              "      <td>NO Distraction</td>\n",
              "      <td>NO Stress</td>\n",
              "      <td>NO Malicious Interference</td>\n",
              "      <td>NO status awareness</td>\n",
              "      <td>NO Pre Flight Data Input Error</td>\n",
              "      <td>NO Flight / Cabin Crew Co-operation</td>\n",
              "      <td>NO Pressure altimeter setting error</td>\n",
              "      <td>NO Pilot Startle Response</td>\n",
              "      <td>NO Flight Crew / Ground Crew Co-operation</td>\n",
              "    </tr>\n",
              "  </tbody>\n",
              "</table>\n",
              "<p>2 rows × 40 columns</p>\n",
              "</div>\n",
              "      <button class=\"colab-df-convert\" onclick=\"convertToInteractive('df-65d0d68f-6103-412a-b944-38fd61749607')\"\n",
              "              title=\"Convert this dataframe to an interactive table.\"\n",
              "              style=\"display:none;\">\n",
              "        \n",
              "  <svg xmlns=\"http://www.w3.org/2000/svg\" height=\"24px\"viewBox=\"0 0 24 24\"\n",
              "       width=\"24px\">\n",
              "    <path d=\"M0 0h24v24H0V0z\" fill=\"none\"/>\n",
              "    <path d=\"M18.56 5.44l.94 2.06.94-2.06 2.06-.94-2.06-.94-.94-2.06-.94 2.06-2.06.94zm-11 1L8.5 8.5l.94-2.06 2.06-.94-2.06-.94L8.5 2.5l-.94 2.06-2.06.94zm10 10l.94 2.06.94-2.06 2.06-.94-2.06-.94-.94-2.06-.94 2.06-2.06.94z\"/><path d=\"M17.41 7.96l-1.37-1.37c-.4-.4-.92-.59-1.43-.59-.52 0-1.04.2-1.43.59L10.3 9.45l-7.72 7.72c-.78.78-.78 2.05 0 2.83L4 21.41c.39.39.9.59 1.41.59.51 0 1.02-.2 1.41-.59l7.78-7.78 2.81-2.81c.8-.78.8-2.07 0-2.86zM5.41 20L4 18.59l7.72-7.72 1.47 1.35L5.41 20z\"/>\n",
              "  </svg>\n",
              "      </button>\n",
              "      \n",
              "  <style>\n",
              "    .colab-df-container {\n",
              "      display:flex;\n",
              "      flex-wrap:wrap;\n",
              "      gap: 12px;\n",
              "    }\n",
              "\n",
              "    .colab-df-convert {\n",
              "      background-color: #E8F0FE;\n",
              "      border: none;\n",
              "      border-radius: 50%;\n",
              "      cursor: pointer;\n",
              "      display: none;\n",
              "      fill: #1967D2;\n",
              "      height: 32px;\n",
              "      padding: 0 0 0 0;\n",
              "      width: 32px;\n",
              "    }\n",
              "\n",
              "    .colab-df-convert:hover {\n",
              "      background-color: #E2EBFA;\n",
              "      box-shadow: 0px 1px 2px rgba(60, 64, 67, 0.3), 0px 1px 3px 1px rgba(60, 64, 67, 0.15);\n",
              "      fill: #174EA6;\n",
              "    }\n",
              "\n",
              "    [theme=dark] .colab-df-convert {\n",
              "      background-color: #3B4455;\n",
              "      fill: #D2E3FC;\n",
              "    }\n",
              "\n",
              "    [theme=dark] .colab-df-convert:hover {\n",
              "      background-color: #434B5C;\n",
              "      box-shadow: 0px 1px 3px 1px rgba(0, 0, 0, 0.15);\n",
              "      filter: drop-shadow(0px 1px 2px rgba(0, 0, 0, 0.3));\n",
              "      fill: #FFFFFF;\n",
              "    }\n",
              "  </style>\n",
              "\n",
              "      <script>\n",
              "        const buttonEl =\n",
              "          document.querySelector('#df-65d0d68f-6103-412a-b944-38fd61749607 button.colab-df-convert');\n",
              "        buttonEl.style.display =\n",
              "          google.colab.kernel.accessAllowed ? 'block' : 'none';\n",
              "\n",
              "        async function convertToInteractive(key) {\n",
              "          const element = document.querySelector('#df-65d0d68f-6103-412a-b944-38fd61749607');\n",
              "          const dataTable =\n",
              "            await google.colab.kernel.invokeFunction('convertToInteractive',\n",
              "                                                     [key], {});\n",
              "          if (!dataTable) return;\n",
              "\n",
              "          const docLinkHtml = 'Like what you see? Visit the ' +\n",
              "            '<a target=\"_blank\" href=https://colab.research.google.com/notebooks/data_table.ipynb>data table notebook</a>'\n",
              "            + ' to learn more about interactive tables.';\n",
              "          element.innerHTML = '';\n",
              "          dataTable['output_type'] = 'display_data';\n",
              "          await google.colab.output.renderOutput(dataTable, element);\n",
              "          const docLink = document.createElement('div');\n",
              "          docLink.innerHTML = docLinkHtml;\n",
              "          element.appendChild(docLink);\n",
              "        }\n",
              "      </script>\n",
              "    </div>\n",
              "  </div>\n",
              "  "
            ]
          },
          "metadata": {},
          "execution_count": 4
        }
      ]
    },
    {
      "cell_type": "markdown",
      "source": [
        "### Data Inspection"
      ],
      "metadata": {
        "id": "F50QhIOQ2idJ"
      }
    },
    {
      "cell_type": "markdown",
      "source": [
        "Checking all the columns within the dataset."
      ],
      "metadata": {
        "id": "JjSTEX414Ibg"
      }
    },
    {
      "cell_type": "code",
      "source": [
        "df.columns"
      ],
      "metadata": {
        "colab": {
          "base_uri": "https://localhost:8080/"
        },
        "id": "p9ylk69B15mi",
        "outputId": "5b453945-af8c-4685-c6da-4597be18d626"
      },
      "execution_count": null,
      "outputs": [
        {
          "output_type": "execute_result",
          "data": {
            "text/plain": [
              "Index(['ye', 'FROM', 'TO', 'FLIGHT PHASE', 'IMC/VMC', 'CAUSE', 'HUMAN FACTOR',\n",
              "       'DATE', 'PAX/CARGO', 'DAY/NIGHT', 'FATAL/NOTFATAL', 'AIRCRAFT DAMAGE',\n",
              "       'WEATHER INFO', 'Column1', 'Unnamed: 14', 'LANDING ', 'Unnamed: 16',\n",
              "       'skills deficiency', 'manual Handling', ' Ineffective Monitoring ',\n",
              "       'Fatigue', 'Procedural non compliance', 'Pilot Medical Fitness',\n",
              "       'Violation', 'Data use error', 'Inappropriate ATC Communication',\n",
              "       ' innapropiate crew response ', 'Plan Continuation Bias',\n",
              "       'Dual Sidestick Input', 'spatial Disorientation', 'Authority Gradient',\n",
              "       'Distraction', 'Stress', 'Malicious Interference', 'status awareness',\n",
              "       'Pre Flight Data Input Error', 'Flight / Cabin Crew Co-operation',\n",
              "       'Pressure altimeter setting error', 'Pilot Startle Response',\n",
              "       'Flight Crew / Ground Crew Co-operation'],\n",
              "      dtype='object')"
            ]
          },
          "metadata": {},
          "execution_count": 5
        }
      ]
    },
    {
      "cell_type": "markdown",
      "source": [
        "Quite a lot of columns, let's check types of data and counts."
      ],
      "metadata": {
        "id": "NPfPi54N2mG3"
      }
    },
    {
      "cell_type": "code",
      "source": [
        "df.info()"
      ],
      "metadata": {
        "colab": {
          "base_uri": "https://localhost:8080/"
        },
        "id": "N71blk8311gb",
        "outputId": "ae449fce-1a66-4f15-9770-e792ed207f9c"
      },
      "execution_count": null,
      "outputs": [
        {
          "output_type": "stream",
          "name": "stdout",
          "text": [
            "<class 'pandas.core.frame.DataFrame'>\n",
            "RangeIndex: 129 entries, 0 to 128\n",
            "Data columns (total 40 columns):\n",
            " #   Column                                  Non-Null Count  Dtype  \n",
            "---  ------                                  --------------  -----  \n",
            " 0   ye                                      129 non-null    object \n",
            " 1   FROM                                    0 non-null      float64\n",
            " 2   TO                                      0 non-null      float64\n",
            " 3   FLIGHT PHASE                            128 non-null    object \n",
            " 4   IMC/VMC                                 127 non-null    object \n",
            " 5   CAUSE                                   127 non-null    object \n",
            " 6   HUMAN FACTOR                            128 non-null    object \n",
            " 7   DATE                                    128 non-null    object \n",
            " 8   PAX/CARGO                               127 non-null    object \n",
            " 9   DAY/NIGHT                               127 non-null    object \n",
            " 10  FATAL/NOTFATAL                          128 non-null    object \n",
            " 11  AIRCRAFT DAMAGE                         128 non-null    object \n",
            " 12  WEATHER INFO                            17 non-null     object \n",
            " 13  Column1                                 1 non-null      float64\n",
            " 14  Unnamed: 14                             0 non-null      float64\n",
            " 15  LANDING                                 0 non-null      float64\n",
            " 16  Unnamed: 16                             0 non-null      float64\n",
            " 17  skills deficiency                       128 non-null    object \n",
            " 18  manual Handling                         128 non-null    object \n",
            " 19   Ineffective Monitoring                 128 non-null    object \n",
            " 20  Fatigue                                 128 non-null    object \n",
            " 21  Procedural non compliance               128 non-null    object \n",
            " 22  Pilot Medical Fitness                   128 non-null    object \n",
            " 23  Violation                               128 non-null    object \n",
            " 24  Data use error                          128 non-null    object \n",
            " 25  Inappropriate ATC Communication         128 non-null    object \n",
            " 26   innapropiate crew response             128 non-null    object \n",
            " 27  Plan Continuation Bias                  128 non-null    object \n",
            " 28  Dual Sidestick Input                    128 non-null    object \n",
            " 29  spatial Disorientation                  128 non-null    object \n",
            " 30  Authority Gradient                      128 non-null    object \n",
            " 31  Distraction                             128 non-null    object \n",
            " 32  Stress                                  128 non-null    object \n",
            " 33  Malicious Interference                  128 non-null    object \n",
            " 34  status awareness                        128 non-null    object \n",
            " 35  Pre Flight Data Input Error             128 non-null    object \n",
            " 36  Flight / Cabin Crew Co-operation        128 non-null    object \n",
            " 37  Pressure altimeter setting error        128 non-null    object \n",
            " 38  Pilot Startle Response                  128 non-null    object \n",
            " 39  Flight Crew / Ground Crew Co-operation  128 non-null    object \n",
            "dtypes: float64(6), object(34)\n",
            "memory usage: 40.4+ KB\n"
          ]
        }
      ]
    },
    {
      "cell_type": "markdown",
      "source": [
        "Let's drop columns with nans and check the amount of unique values in each of the columns."
      ],
      "metadata": {
        "id": "wFbmNoXM2pm5"
      }
    },
    {
      "cell_type": "code",
      "source": [
        "df = df.drop(columns=['FROM', 'TO', 'WEATHER INFO', 'Unnamed: 14', 'Column1', 'LANDING ', 'Unnamed: 16'])"
      ],
      "metadata": {
        "id": "Vu7dpmXj2vhv"
      },
      "execution_count": 47,
      "outputs": []
    },
    {
      "cell_type": "code",
      "source": [
        "for column in df:\n",
        "  print(\"Column: {0:40} Unique Values {1}\".format(column, df[column].nunique()))"
      ],
      "metadata": {
        "colab": {
          "base_uri": "https://localhost:8080/"
        },
        "id": "eVGC7IvG3Ik3",
        "outputId": "af500648-5c15-4b83-dd64-a9661fa579b0"
      },
      "execution_count": 48,
      "outputs": [
        {
          "output_type": "stream",
          "name": "stdout",
          "text": [
            "Column: ye                                       Unique Values 84\n",
            "Column: FLIGHT PHASE                             Unique Values 10\n",
            "Column: IMC/VMC                                  Unique Values 2\n",
            "Column: CAUSE                                    Unique Values 108\n",
            "Column: HUMAN FACTOR                             Unique Values 110\n",
            "Column: PAX/CARGO                                Unique Values 5\n",
            "Column: DAY/NIGHT                                Unique Values 2\n",
            "Column: FATAL/NOTFATAL                           Unique Values 2\n",
            "Column: AIRCRAFT DAMAGE                          Unique Values 2\n",
            "Column: skills deficiency                        Unique Values 2\n",
            "Column: manual Handling                          Unique Values 2\n",
            "Column:  Ineffective Monitoring                  Unique Values 2\n",
            "Column: Fatigue                                  Unique Values 2\n",
            "Column: Procedural non compliance                Unique Values 2\n",
            "Column: Pilot Medical Fitness                    Unique Values 2\n",
            "Column: Violation                                Unique Values 2\n",
            "Column: Data use error                           Unique Values 2\n",
            "Column: Inappropriate ATC Communication          Unique Values 2\n",
            "Column:  innapropiate crew response              Unique Values 2\n",
            "Column: Plan Continuation Bias                   Unique Values 2\n",
            "Column: Dual Sidestick Input                     Unique Values 2\n",
            "Column: spatial Disorientation                   Unique Values 2\n",
            "Column: Authority Gradient                       Unique Values 2\n",
            "Column: Distraction                              Unique Values 2\n",
            "Column: Stress                                   Unique Values 2\n",
            "Column: Malicious Interference                   Unique Values 2\n",
            "Column: status awareness                         Unique Values 2\n",
            "Column: Pre Flight Data Input Error              Unique Values 2\n",
            "Column: Flight / Cabin Crew Co-operation         Unique Values 2\n",
            "Column: Pressure altimeter setting error         Unique Values 2\n",
            "Column: Pilot Startle Response                   Unique Values 2\n",
            "Column: Flight Crew / Ground Crew Co-operation   Unique Values 2\n",
            "Column: YEAR                                     Unique Values 24\n",
            "Column: MONTH                                    Unique Values 12\n",
            "Column: DAY                                      Unique Values 30\n"
          ]
        }
      ]
    },
    {
      "cell_type": "markdown",
      "source": [
        "Most of the columns are binary which will be easily dealt with. However, some of the columns include a lot of unique values, let's check these."
      ],
      "metadata": {
        "id": "73sBNs7v4NEX"
      }
    },
    {
      "cell_type": "markdown",
      "source": [
        "### Columns that require preprocessing"
      ],
      "metadata": {
        "id": "03n3Dzvu4Wlt"
      }
    },
    {
      "cell_type": "markdown",
      "source": [
        "Transforming strings to lower case only."
      ],
      "metadata": {
        "id": "ASwftaut4XiM"
      }
    },
    {
      "cell_type": "code",
      "source": [
        "df = df.applymap(lambda s:s.lower() if type(s) == str else s)"
      ],
      "metadata": {
        "id": "_RAEUi1c5uH8"
      },
      "execution_count": 9,
      "outputs": []
    },
    {
      "cell_type": "markdown",
      "source": [
        "### Feature Engineering"
      ],
      "metadata": {
        "id": "CO-4qfIC8paR"
      }
    },
    {
      "cell_type": "markdown",
      "source": [
        "These columns below would require embedding and extensive preprocessing to be efficient. There is no time to do that here."
      ],
      "metadata": {
        "id": "_YHOC1jx4ePm"
      }
    },
    {
      "cell_type": "markdown",
      "source": [
        "### Functions for use"
      ],
      "metadata": {
        "id": "vTZnZZPb57L3"
      }
    },
    {
      "cell_type": "code",
      "source": [
        "def unique_values_in_list_series(series, return_len=True):\n",
        "  value_list = []\n",
        "  for i, v in series.items():\n",
        "    if isinstance(v, list):\n",
        "      value_list.extend(v)\n",
        "  value_set = set(value_list)\n",
        "  if return_len:\n",
        "    return len(list(value_set))\n",
        "  return list(value_set)"
      ],
      "metadata": {
        "id": "4AA7y4uN7bs9"
      },
      "execution_count": 17,
      "outputs": []
    },
    {
      "cell_type": "markdown",
      "source": [
        "### CAUSE Column"
      ],
      "metadata": {
        "id": "VJhd7w2V5nDn"
      }
    },
    {
      "cell_type": "code",
      "source": [
        "df['CAUSE'].sample(5)"
      ],
      "metadata": {
        "colab": {
          "base_uri": "https://localhost:8080/"
        },
        "id": "zylgcPy530oN",
        "outputId": "b2b58873-6268-4a6e-8593-d6d25e6c4192"
      },
      "execution_count": 11,
      "outputs": [
        {
          "output_type": "execute_result",
          "data": {
            "text/plain": [
              "100    deficient crew knowledge-automation, pic less ...\n",
              "42     approach not stabilised, deficient crew knowle...\n",
              "20     copilot less than 500 hours on type, ineffecti...\n",
              "113              inadequate aircraft operator procedures\n",
              "66     helicopter involved, inadequate aircraft opera...\n",
              "Name: CAUSE, dtype: object"
            ]
          },
          "metadata": {},
          "execution_count": 11
        }
      ]
    },
    {
      "cell_type": "code",
      "source": [
        "unique_values_in_list_series(df['CAUSE'].str.split(','))"
      ],
      "metadata": {
        "colab": {
          "base_uri": "https://localhost:8080/"
        },
        "id": "P4T820Z78OrQ",
        "outputId": "207dc8e0-d034-433e-a155-7b2520a36544"
      },
      "execution_count": 12,
      "outputs": [
        {
          "output_type": "execute_result",
          "data": {
            "text/plain": [
              "88"
            ]
          },
          "metadata": {},
          "execution_count": 12
        }
      ]
    },
    {
      "cell_type": "markdown",
      "source": [
        "Over 88 unique values, given that there are 125 rows of data, it would bring little to no benefits for using the column, however it might be possible to cluster the possible data points."
      ],
      "metadata": {
        "id": "wsIdp1V84pTL"
      }
    },
    {
      "cell_type": "markdown",
      "source": [
        "### Continue"
      ],
      "metadata": {
        "id": "t-cKCGf17b9y"
      }
    },
    {
      "cell_type": "markdown",
      "source": [
        "Over 88 unique values, too much preprocessing required, we are going to drop the column..."
      ],
      "metadata": {
        "id": "qrVWTPsG8Pqx"
      }
    },
    {
      "cell_type": "code",
      "source": [
        "pd.unique(df['CAUSE'].str.split(',', expand=True).values.ravel())"
      ],
      "metadata": {
        "id": "aPswfcyM56vg"
      },
      "execution_count": null,
      "outputs": []
    },
    {
      "cell_type": "code",
      "source": [
        "df = df.drop(columns=['CAUSE'])"
      ],
      "metadata": {
        "id": "CiOkvunn8TQK"
      },
      "execution_count": null,
      "outputs": []
    },
    {
      "cell_type": "markdown",
      "source": [
        "### HUMAN FACTOR Column"
      ],
      "metadata": {
        "id": "TbIWkElV8Yhp"
      }
    },
    {
      "cell_type": "code",
      "source": [
        "df['HUMAN FACTOR'].sample(5)"
      ],
      "metadata": {
        "colab": {
          "base_uri": "https://localhost:8080/"
        },
        "id": "fnoLq_SL4Yxj",
        "outputId": "2383852f-19a9-4888-9296-d5c4364437e5"
      },
      "execution_count": null,
      "outputs": [
        {
          "output_type": "execute_result",
          "data": {
            "text/plain": [
              "38     Ineffective Monitoring, Manual Handling, Proce...\n",
              "71     crew did not update weather info about deterio...\n",
              "70     Fatigue, Ineffective Monitoring, Procedural no...\n",
              "106    Fatigue, Inappropriate crew response - skills ...\n",
              "7      Inappropriate ATC Communication,  skills defic...\n",
              "Name: HUMAN FACTOR, dtype: object"
            ]
          },
          "metadata": {},
          "execution_count": 27
        }
      ]
    },
    {
      "cell_type": "code",
      "source": [
        "unique_values_in_list_series(df['HUMAN FACTOR'].str.split(','))"
      ],
      "metadata": {
        "colab": {
          "base_uri": "https://localhost:8080/"
        },
        "id": "1xbD_XqY8bkc",
        "outputId": "a5e028d4-c6c8-4e56-e23d-7de81277691a"
      },
      "execution_count": null,
      "outputs": [
        {
          "output_type": "execute_result",
          "data": {
            "text/plain": [
              "56"
            ]
          },
          "metadata": {},
          "execution_count": 63
        }
      ]
    },
    {
      "cell_type": "code",
      "source": [
        "unique_values_in_list_series(df['HUMAN FACTOR'].str.split(','), return_len=False)"
      ],
      "metadata": {
        "colab": {
          "base_uri": "https://localhost:8080/"
        },
        "id": "j1gBPDZG8EcK",
        "outputId": "3dbbf72b-f11b-4a5e-d2bf-e712954fb8e9"
      },
      "execution_count": 22,
      "outputs": [
        {
          "output_type": "execute_result",
          "data": {
            "text/plain": [
              "['neffective monitoring',\n",
              " 'distraction',\n",
              " 'data use error',\n",
              " 'manual handling',\n",
              " ' pilot medical fitness',\n",
              " ' spatial disorientation',\n",
              " 'no',\n",
              " 'atc clearance error',\n",
              " 'plan continuation bias',\n",
              " 'flight crew / ground crew co-operation',\n",
              " ' ap/fd and/or athr status awareness',\n",
              " ' manual handling',\n",
              " ' distraction',\n",
              " ' pressure altimeter setting error',\n",
              " ' violation',\n",
              " ' inappropriate atc communication',\n",
              " 'skills deficiency',\n",
              " 'nappropriate crew response - skills deficiency',\n",
              " ' pilot startle response',\n",
              " 'atc unit co-ordination',\n",
              " ' vertical navigation error',\n",
              " 'procedural non compliance',\n",
              " 'spatial disorientation',\n",
              " 'authority gradient',\n",
              " ' fatigue',\n",
              " 'inappropriate crew response (automatics)',\n",
              " ' crew response (automatics)',\n",
              " 'fatigue',\n",
              " ' authority gradient',\n",
              " ' atc unit co-ordination',\n",
              " ' ineffective monitoring - pic as pf',\n",
              " ' inappropriate crew response (technical fault)',\n",
              " 'inappropriate atc communication',\n",
              " 'flight / cabin crew co-operation',\n",
              " 'into terrain',\n",
              " ' ineffective monitoring ',\n",
              " ' ineffective monitoring',\n",
              " ' procedural non compliance',\n",
              " ' inappropriate crew response - skills deficiency',\n",
              " ' ineffective monitoring - sic as pf',\n",
              " ' data use error',\n",
              " 'ineffective monitoring',\n",
              " ' dual sidestick input',\n",
              " 'pilot medical fitness',\n",
              " ' plan continuation bias',\n",
              " 'violation',\n",
              " ' ifr flight plan',\n",
              " '  skills deficiency',\n",
              " 'the inputs to the auto flight systems by the crew member believed to be the captain who remained alone in the cockpit when the person believed to be the co-pilot requested to go to the lavatory (which) caused the aircraft to depart from cruise flight to a sustained controlled descent and subsequent collision with the terrain\".',\n",
              " 'crew did not update weather info about deterioration ',\n",
              " 'nappropriate crew response (automatics)',\n",
              " ' inappropriate crew response (automatics)',\n",
              " ' stress',\n",
              " 'pre flight data input error',\n",
              " 'malicious interference',\n",
              " 'inappropriate crew response - skills deficiency']"
            ]
          },
          "metadata": {},
          "execution_count": 22
        }
      ]
    },
    {
      "cell_type": "markdown",
      "source": [
        "Over 56 unique values, too much preprocessing required, we are going to drop the column..."
      ],
      "metadata": {
        "id": "1FjI_jNU8e4V"
      }
    },
    {
      "cell_type": "code",
      "source": [
        "df = df.drop(columns=['HUMAN FACTOR'])"
      ],
      "metadata": {
        "id": "HcOEYYdU8yD8"
      },
      "execution_count": null,
      "outputs": []
    },
    {
      "cell_type": "markdown",
      "source": [
        "### DATE Column"
      ],
      "metadata": {
        "id": "SczOqgMJ80JL"
      }
    },
    {
      "cell_type": "code",
      "source": [
        "df['DATE'].sample(5)"
      ],
      "metadata": {
        "colab": {
          "base_uri": "https://localhost:8080/"
        },
        "id": "NakqiFb94bpS",
        "outputId": "1fbf52de-d496-4c98-ea3e-b9ed57b0bab9"
      },
      "execution_count": 37,
      "outputs": [
        {
          "output_type": "execute_result",
          "data": {
            "text/plain": [
              "55     29/06/2009\n",
              "40     09/02/2020\n",
              "19     01/01/2007\n",
              "31     26/10/2010\n",
              "114    15/05/2017\n",
              "Name: DATE, dtype: object"
            ]
          },
          "metadata": {},
          "execution_count": 37
        }
      ]
    },
    {
      "cell_type": "code",
      "source": [
        "df = df.drop(index=[0, 128])"
      ],
      "metadata": {
        "id": "xgx1DEIx82OQ"
      },
      "execution_count": 38,
      "outputs": []
    },
    {
      "cell_type": "code",
      "source": [
        "df['DATE'] = pd.to_datetime(df['DATE'])\n",
        "df['YEAR'] = df['DATE'].dt.year\n",
        "df['MONTH'] = df['DATE'].dt.month\n",
        "df['DAY'] = df['DATE'].dt.day\n",
        "df = df.drop(columns=['DATE'])"
      ],
      "metadata": {
        "id": "Qv3bDba49OTE"
      },
      "execution_count": 39,
      "outputs": []
    },
    {
      "cell_type": "markdown",
      "source": [
        "### DAY/NIGHT Column"
      ],
      "metadata": {
        "id": "S6I4c1Qj-BVV"
      }
    },
    {
      "cell_type": "code",
      "source": [
        "df['DAY/NIGHT'] = df['DAY/NIGHT'].str.strip()"
      ],
      "metadata": {
        "id": "VdkwXrY1-UAd"
      },
      "execution_count": 40,
      "outputs": []
    },
    {
      "cell_type": "code",
      "source": [
        "df['DAY/NIGHT'].value_counts()"
      ],
      "metadata": {
        "colab": {
          "base_uri": "https://localhost:8080/"
        },
        "id": "Ud0HaaBc4vyD",
        "outputId": "8b42f84c-3d18-423d-e3be-bdc7024684ef"
      },
      "execution_count": 41,
      "outputs": [
        {
          "output_type": "execute_result",
          "data": {
            "text/plain": [
              "day      75\n",
              "night    51\n",
              "Name: DAY/NIGHT, dtype: int64"
            ]
          },
          "metadata": {},
          "execution_count": 41
        }
      ]
    },
    {
      "cell_type": "markdown",
      "source": [
        "### FATAL/NOTFATAL Column"
      ],
      "metadata": {
        "id": "6a3lzvkS-ZnX"
      }
    },
    {
      "cell_type": "code",
      "source": [
        "def fatal_column(value):\n",
        "  if value == \"no\":\n",
        "    return 0\n",
        "  if value == \"none\":\n",
        "    return 0\n",
        "  else:\n",
        "    return 1"
      ],
      "metadata": {
        "id": "tuav6dNV-e0d"
      },
      "execution_count": 42,
      "outputs": []
    },
    {
      "cell_type": "code",
      "source": [
        "df['FATAL/NOTFATAL'] = df.apply(lambda x: fatal_column(x['FATAL/NOTFATAL']), axis=1)"
      ],
      "metadata": {
        "id": "pvPq3ot0--3j"
      },
      "execution_count": 43,
      "outputs": []
    },
    {
      "cell_type": "markdown",
      "source": [
        "### AIRCRAFT DAMAGE Column"
      ],
      "metadata": {
        "id": "v9nVMLzq_MNY"
      }
    },
    {
      "cell_type": "code",
      "source": [
        "df['AIRCRAFT DAMAGE'] = df['AIRCRAFT DAMAGE'].str.strip()"
      ],
      "metadata": {
        "id": "LglapMt9_QIw"
      },
      "execution_count": 44,
      "outputs": []
    },
    {
      "cell_type": "code",
      "source": [
        "def aircraft_dmg_column(value):\n",
        "  if value == \"no\":\n",
        "    return 0\n",
        "  else:\n",
        "    return 1"
      ],
      "metadata": {
        "id": "siYvmeVl_SJu"
      },
      "execution_count": 45,
      "outputs": []
    },
    {
      "cell_type": "code",
      "source": [
        "df['AIRCRAFT DAMAGE'] = df.apply(lambda x: aircraft_dmg_column(x['AIRCRAFT DAMAGE']), axis=1)"
      ],
      "metadata": {
        "id": "hDturQNC_ZQp"
      },
      "execution_count": 46,
      "outputs": []
    },
    {
      "cell_type": "code",
      "source": [
        "df.dropna(inplace=True)"
      ],
      "metadata": {
        "id": "PkJVIzx3_zUd"
      },
      "execution_count": 50,
      "outputs": []
    },
    {
      "cell_type": "markdown",
      "source": [
        "## Feature Engineering "
      ],
      "metadata": {
        "id": "T3ngvU1t5D1c"
      }
    },
    {
      "cell_type": "markdown",
      "source": [],
      "metadata": {
        "id": "n8X7orTW_8xy"
      }
    },
    {
      "cell_type": "markdown",
      "source": [
        "### Clustering (test)"
      ],
      "metadata": {
        "id": "Go6IHJec7Y80"
      }
    },
    {
      "cell_type": "markdown",
      "source": [
        "#### Imports"
      ],
      "metadata": {
        "id": "nchGfi547njM"
      }
    },
    {
      "cell_type": "code",
      "source": [
        "pip install fuzzywuzzy plotly gensim webcolors"
      ],
      "metadata": {
        "id": "jgt9rAig8k61"
      },
      "execution_count": null,
      "outputs": []
    },
    {
      "cell_type": "code",
      "source": [
        "import pandas as pd\n",
        "import numpy as np\n",
        "from matplotlib import pyplot as plt\n",
        "%matplotlib inline\n",
        "import plotly.express as px\n",
        "\n",
        "#Libraries for preprocessing\n",
        "from gensim.parsing.preprocessing import remove_stopwords\n",
        "import string\n",
        "from nltk.stem import PorterStemmer\n",
        "from nltk.tokenize import word_tokenize\n",
        "import webcolors\n",
        "\n",
        "#Download once if using NLTK for preprocessing\n",
        "import nltk\n",
        "nltk.download('punkt')\n",
        "\n",
        "#Libraries for vectorisation\n",
        "from sklearn.feature_extraction.text import CountVectorizer, TfidfVectorizer\n",
        "from sklearn.decomposition import LatentDirichletAllocation\n",
        "from sklearn.model_selection import GridSearchCV\n",
        "from fuzzywuzzy import fuzz\n",
        "\n",
        "#Libraries for clustering\n",
        "from sklearn.cluster import KMeans\n",
        "\n",
        "#Load data set\n",
        "human_factor_text = df['HUMAN FACTOR']\n",
        "causes_text = df['CAUSE']"
      ],
      "metadata": {
        "colab": {
          "base_uri": "https://localhost:8080/"
        },
        "id": "Tbx7NSm48xqK",
        "outputId": "6b82eb78-eecb-4af8-cee6-192aae7bf59c"
      },
      "execution_count": 86,
      "outputs": [
        {
          "output_type": "stream",
          "name": "stderr",
          "text": [
            "[nltk_data] Downloading package punkt to /root/nltk_data...\n",
            "[nltk_data]   Package punkt is already up-to-date!\n"
          ]
        }
      ]
    },
    {
      "cell_type": "markdown",
      "source": [
        "#### Stopwords Removal"
      ],
      "metadata": {
        "id": "zS6L5hVm8vlY"
      }
    },
    {
      "cell_type": "code",
      "source": [
        "#Remove stopwords, punctuation and numbers\n",
        "causes_text = [remove_stopwords(x.encode())\\\n",
        "        .translate(str.maketrans('','',string.punctuation))\\\n",
        "        .translate(str.maketrans('','',string.digits))\\\n",
        "        if x and isinstance(x, str) else \"\" for x in causes_text]"
      ],
      "metadata": {
        "id": "6Qmzuiee9FDX"
      },
      "execution_count": 87,
      "outputs": []
    },
    {
      "cell_type": "code",
      "source": [
        "#Remove stopwords, punctuation and numbers\n",
        "human_factor_text = [remove_stopwords(x.encode())\\\n",
        "        .translate(str.maketrans('','',string.punctuation))\\\n",
        "        .translate(str.maketrans('','',string.digits))\\\n",
        "        if x and isinstance(x, str) else \"\" for x in human_factor_text]"
      ],
      "metadata": {
        "id": "aqbTX1j7EkVO"
      },
      "execution_count": 89,
      "outputs": []
    },
    {
      "cell_type": "markdown",
      "source": [
        "#### Stemming"
      ],
      "metadata": {
        "id": "PQg9OhDpAn_Q"
      }
    },
    {
      "cell_type": "code",
      "source": [
        "#Stem and make lower case\n",
        "def stemSentence(sentence):\n",
        "    porter = PorterStemmer()\n",
        "    token_words = word_tokenize(sentence)\n",
        "    stem_sentence = [porter.stem(word) for word in token_words]\n",
        "    return ' '.join(stem_sentence)\n",
        "\n",
        "text_cause = pd.Series([stemSentence(x) for x in causes_text])\n",
        "text_human = pd.Series([stemSentence(x) for x in human_factor_text])"
      ],
      "metadata": {
        "id": "K-IR_-06AqR6"
      },
      "execution_count": 90,
      "outputs": []
    },
    {
      "cell_type": "markdown",
      "source": [
        "#### Vectorization"
      ],
      "metadata": {
        "id": "nVUcPniwBAX7"
      }
    },
    {
      "cell_type": "code",
      "source": [
        "from gensim.models.doc2vec import Doc2Vec, TaggedDocument\n",
        "#tokenize and tag the card text\n",
        "cause_cards = [TaggedDocument(doc.split(' '), [i]) \n",
        "             for i, doc in enumerate(text_cause)]\n",
        "\n",
        "human_cards = [TaggedDocument(doc.split(' '), [i]) \n",
        "             for i, doc in enumerate(text_human)]"
      ],
      "metadata": {
        "id": "s-rbkozQBna8"
      },
      "execution_count": 91,
      "outputs": []
    },
    {
      "cell_type": "code",
      "source": [
        "# model = Doc2Vec(vector_size=64, min_count=1, epochs = 20)\n",
        "#instantiate model\n",
        "model_cause = Doc2Vec(vector_size=16, window=2, min_count=1, workers=8, epochs = 40)\n",
        "model_human = Doc2Vec(vector_size=16, window=2, min_count=1, workers=8, epochs = 40)\n",
        "\n",
        "#build vocab\n",
        "model_cause.build_vocab(cause_cards)\n",
        "model_human.build_vocab(human_cards)\n",
        "#train model\n",
        "model_cause.train(cause_cards, total_examples=model_cause.corpus_count\n",
        "            , epochs=model_cause.epochs)\n",
        "model_human.train(human_cards, total_examples=model_human.corpus_count\n",
        "            , epochs=model_human.epochs)"
      ],
      "metadata": {
        "colab": {
          "base_uri": "https://localhost:8080/"
        },
        "id": "UuTUTk6ICQvJ",
        "outputId": "d5a20811-aa16-4bb8-d3d2-58d9fc7d5d41"
      },
      "execution_count": 92,
      "outputs": [
        {
          "output_type": "stream",
          "name": "stderr",
          "text": [
            "WARNING:gensim.models.base_any2vec:under 10 jobs per worker: consider setting a smaller `batch_words' for smoother alpha decay\n",
            "WARNING:gensim.models.base_any2vec:under 10 jobs per worker: consider setting a smaller `batch_words' for smoother alpha decay\n"
          ]
        }
      ]
    },
    {
      "cell_type": "code",
      "source": [
        "cause2vec = [model.infer_vector((text_cause[i].split(' '))) \n",
        "            for i in range(0,len(text_cause))]\n",
        "\n",
        "human2vec = [model.infer_vector((text_human[i].split(' '))) \n",
        "            for i in range(0,len(text_human))]"
      ],
      "metadata": {
        "id": "qcKmgDgjCWSp"
      },
      "execution_count": 93,
      "outputs": []
    },
    {
      "cell_type": "code",
      "source": [
        "kmeans_cause = KMeans(n_clusters=5, random_state=0).fit(cause2vec)\n",
        "kmeans_human = KMeans(n_clusters=2, random_state=0).fit(human2vec)"
      ],
      "metadata": {
        "id": "VCA7Cp3-Ds4k"
      },
      "execution_count": 94,
      "outputs": []
    },
    {
      "cell_type": "code",
      "source": [
        "df['CAUSE_cluster'] = kmeans_cause.labels_\n",
        "df['HUMAN FACTOR_cluster'] = kmeans_human.labels_"
      ],
      "metadata": {
        "id": "cEo_RAjFD-Pc"
      },
      "execution_count": 95,
      "outputs": []
    },
    {
      "cell_type": "code",
      "source": [
        "df.drop(columns=['CAUSE', 'HUMAN FACTOR'], inplace=True)"
      ],
      "metadata": {
        "id": "B9DeFL-UERTA"
      },
      "execution_count": 97,
      "outputs": []
    },
    {
      "cell_type": "markdown",
      "source": [
        "### Feature Meaning\n",
        "\n",
        "\n",
        "\n",
        " - 0   ye                                      127 non-null    object - MODEL\n",
        " - 1   FLIGHT PHASE                            127 non-null    object - PHASE\n",
        " - 2   IMC/VMC                                 126 non-null    object - +\n",
        " - 3   PAX/CARGO                               126 non-null    object - +\n",
        " - 4   DAY/NIGHT                               126 non-null    object - +\n",
        " - 5   FATAL/NOTFATAL                          127 non-null    int64  - NO\n",
        " - 6   AIRCRAFT DAMAGE                         127 non-null    int64  - NO\n",
        " - 7   skills deficiency                       127 non-null    object - ?\n",
        " - 8   manual Handling                         127 non-null    object - ?\n",
        " - 9    Ineffective Monitoring                 127 non-null    object - ?\n",
        " - 10  Fatigue                                 127 non-null    object - \n",
        " - 11  Procedural non compliance               127 non-null    object\n",
        " - 12  Pilot Medical Fitness                   127 non-null    object\n",
        " - 13  Violation                               127 non-null    object\n",
        " - 14  Data use error                          127 non-null    object\n",
        " - 15  Inappropriate ATC Communication         127 non-null    object\n",
        " - 16   innapropiate crew response             127 non-null    object\n",
        " - 17  Plan Continuation Bias                  127 non-null    object\n",
        " - 18  Dual Sidestick Input                    127 non-null    object\n",
        " - 19  spatial Disorientation                  127 non-null    object\n",
        " - 20  Authority Gradient                      127 non-null    object\n",
        " - 21  Distraction                             127 non-null    object\n",
        " - 22  Stress                                  127 non-null    object\n",
        " - 23  Malicious Interference                  127 non-null    object\n",
        " - 24  status awareness                        127 non-null    object\n",
        " - 25  Pre Flight Data Input Error             127 non-null    object\n",
        " - 26  Flight / Cabin Crew Co-operation        127 non-null    object\n",
        " - 27  Pressure altimeter setting error        127 non-null    object\n",
        " - 28  Pilot Startle Response                  127 non-null    object\n",
        " - 29  Flight Crew / Ground Crew Co-operation  127 non-null    object\n",
        " - 30  YEAR                                    127 non-null    int64 \n",
        " - 31  MONTH                                   127 non-null    int64 \n",
        " - 32  DAY                                     127 non-null    int64 \n",
        "\n"
      ],
      "metadata": {
        "id": "qrhDTkOHBjnC"
      }
    },
    {
      "cell_type": "markdown",
      "source": [
        "## Train Test Split"
      ],
      "metadata": {
        "id": "7SgDPJ7M5NN4"
      }
    },
    {
      "cell_type": "code",
      "source": [
        "X = df.drop(columns=['FATAL/NOTFATAL'])\n",
        "y = df[['FATAL/NOTFATAL']]\n",
        "\n",
        "X = pd.get_dummies(X, drop_first=True)"
      ],
      "metadata": {
        "id": "XSgL30ciDgxi"
      },
      "execution_count": 110,
      "outputs": []
    },
    {
      "cell_type": "markdown",
      "source": [
        "Splitting data."
      ],
      "metadata": {
        "id": "I8THZfsdA8rD"
      }
    },
    {
      "cell_type": "code",
      "source": [
        "from sklearn.model_selection import train_test_split\n",
        "\n",
        "X_train, X_test, y_train, y_test = train_test_split(X, y, test_size=0.2, random_state=42)"
      ],
      "metadata": {
        "id": "-uzovRkeBBwE"
      },
      "execution_count": 111,
      "outputs": []
    },
    {
      "cell_type": "markdown",
      "source": [
        "## Data Encoding"
      ],
      "metadata": {
        "id": "X3qwS0Ee5I6i"
      }
    },
    {
      "cell_type": "code",
      "source": [
        "from sklearn.preprocessing import OneHotEncoder\n",
        "from sklearn.preprocessing import MinMaxScaler"
      ],
      "metadata": {
        "id": "yVQ6tsCn_8Sd"
      },
      "execution_count": 112,
      "outputs": []
    },
    {
      "cell_type": "markdown",
      "source": [
        "### OneHotEncoder"
      ],
      "metadata": {
        "id": "lbSWyUd1ArXB"
      }
    },
    {
      "cell_type": "markdown",
      "source": [
        "... done"
      ],
      "metadata": {
        "id": "e8Ra07U1EggO"
      }
    },
    {
      "cell_type": "markdown",
      "source": [
        "### Normalization"
      ],
      "metadata": {
        "id": "nZHpYn6BAxah"
      }
    },
    {
      "cell_type": "code",
      "source": [
        "scaler = MinMaxScaler()\n",
        "\n",
        "X_train = scaler.fit_transform(X_train)\n",
        "X_test = scaler.transform(X_test)"
      ],
      "metadata": {
        "id": "-mjrluuPAyed"
      },
      "execution_count": 113,
      "outputs": []
    },
    {
      "cell_type": "markdown",
      "source": [
        "## Machine Learning"
      ],
      "metadata": {
        "id": "R89HrODd5RDw"
      }
    },
    {
      "cell_type": "markdown",
      "source": [
        "### Logistic Regression"
      ],
      "metadata": {
        "id": "i3DeV56S5S3K"
      }
    },
    {
      "cell_type": "code",
      "source": [
        "from sklearn.multioutput import MultiOutputClassifier\n",
        "from sklearn.linear_model import LogisticRegression\n",
        "\n",
        "# clf = MultiOutputClassifier(LogisticRegression()).fit(X_train, y_train)\n",
        "clf = LogisticRegression().fit(X_train, y_train)"
      ],
      "metadata": {
        "id": "R_WxMSbdGwNS"
      },
      "execution_count": 114,
      "outputs": []
    },
    {
      "cell_type": "code",
      "source": [
        "clf.score(X_test, y_test)"
      ],
      "metadata": {
        "colab": {
          "base_uri": "https://localhost:8080/"
        },
        "id": "qpVBnXGxHEQf",
        "outputId": "99cc6f9d-1079-4467-c31e-3e5580e3267f"
      },
      "execution_count": 115,
      "outputs": [
        {
          "output_type": "execute_result",
          "data": {
            "text/plain": [
              "0.72"
            ]
          },
          "metadata": {},
          "execution_count": 115
        }
      ]
    },
    {
      "cell_type": "code",
      "source": [
        "from sklearn.metrics import multilabel_confusion_matrix, confusion_matrix\n",
        "\n",
        "# multilabel_confusion_matrix(y_test, clf.predict(X_test))\n",
        "confusion_matrix(y_test, clf.predict(X_test))"
      ],
      "metadata": {
        "colab": {
          "base_uri": "https://localhost:8080/"
        },
        "id": "A9vI9aB3HSgF",
        "outputId": "ebb2b2b6-d5f6-4a59-dc8b-8c61b5bfd410"
      },
      "execution_count": 116,
      "outputs": [
        {
          "output_type": "execute_result",
          "data": {
            "text/plain": [
              "array([[ 2,  6],\n",
              "       [ 1, 16]])"
            ]
          },
          "metadata": {},
          "execution_count": 116
        }
      ]
    },
    {
      "cell_type": "markdown",
      "source": [
        "A lot of false positives."
      ],
      "metadata": {
        "id": "IeX5cEuLHaGT"
      }
    },
    {
      "cell_type": "code",
      "source": [
        "from sklearn.metrics import roc_auc_score\n",
        "\n",
        "# y_pred = clf.predict_proba(X_test)\n",
        "# y_pred = np.transpose([pred[:, 1] for pred in y_pred])\n",
        "# roc_auc_score(y_test, y_pred, average=None)\n",
        "\n",
        "roc_auc_score(y_test, clf.decision_function(X_test))"
      ],
      "metadata": {
        "colab": {
          "base_uri": "https://localhost:8080/"
        },
        "id": "KZK7vIRKI621",
        "outputId": "51c78b9e-b0d7-4e49-878c-c71fd087ec95"
      },
      "execution_count": 120,
      "outputs": [
        {
          "output_type": "execute_result",
          "data": {
            "text/plain": [
              "0.9338235294117647"
            ]
          },
          "metadata": {},
          "execution_count": 120
        }
      ]
    },
    {
      "cell_type": "markdown",
      "source": [
        "93% AREA UNDER THE CURVE"
      ],
      "metadata": {
        "id": "56iUL0FWH_fX"
      }
    },
    {
      "cell_type": "markdown",
      "source": [
        "### NN"
      ],
      "metadata": {
        "id": "pBNKlqur5X4t"
      }
    },
    {
      "cell_type": "code",
      "source": [
        "from tensorflow import keras\n",
        "\n",
        "model = keras.Sequential(\n",
        "    [\n",
        "        keras.layers.Dense(units=10, activation=\"relu\", input_shape=(X_train.shape[-1],) ),\n",
        "        keras.layers.Dropout(0.15),\n",
        "        keras.layers.Dense(units=20, activation=\"relu\"),\n",
        "        keras.layers.Dropout(0.15),\n",
        "        keras.layers.Dense(units=20, activation=\"relu\"),\n",
        "        keras.layers.Dropout(0.1),\n",
        "        keras.layers.Dense(units=10, activation=\"relu\"),\n",
        "        # the output layer, with a single neuron\n",
        "        # keras.layers.Dense(units=2, activation=\"sigmoid\"),\n",
        "        keras.layers.Dense(units=1, activation=\"sigmoid\"),\n",
        "     \n",
        "    ]\n",
        ")"
      ],
      "metadata": {
        "id": "-LpHaDPnHqPA"
      },
      "execution_count": 247,
      "outputs": []
    },
    {
      "cell_type": "code",
      "source": [
        "keras.utils.plot_model(model, show_shapes=True)"
      ],
      "metadata": {
        "colab": {
          "base_uri": "https://localhost:8080/",
          "height": 976
        },
        "id": "WJ4QfBTRH7DU",
        "outputId": "25c39a61-99ea-4964-c932-b2999aa7d960"
      },
      "execution_count": 248,
      "outputs": [
        {
          "output_type": "execute_result",
          "data": {
            "image/png": "[encoded data removed]",
            "text/plain": [
              "<IPython.core.display.Image object>"
            ]
          },
          "metadata": {},
          "execution_count": 248
        }
      ]
    },
    {
      "cell_type": "code",
      "source": [
        "learning_rate = 0.0001\n",
        "\n",
        "model.compile(optimizer=keras.optimizers.Adam(learning_rate=learning_rate), \n",
        "              loss=\"binary_crossentropy\", \n",
        "              metrics=keras.metrics.AUC()\n",
        "             )"
      ],
      "metadata": {
        "id": "yobi4lHmH_Ri"
      },
      "execution_count": 249,
      "outputs": []
    },
    {
      "cell_type": "code",
      "source": [
        "unique, counts = np.unique(y, return_counts=True)\n",
        "print(np.asarray((unique, counts)).T)"
      ],
      "metadata": {
        "colab": {
          "base_uri": "https://localhost:8080/"
        },
        "id": "8Drwq_unJYGu",
        "outputId": "2eece56b-f06c-4127-f59c-88fb38606c04"
      },
      "execution_count": 250,
      "outputs": [
        {
          "output_type": "stream",
          "name": "stdout",
          "text": [
            "[[ 0 47]\n",
            " [ 1 76]]\n"
          ]
        }
      ]
    },
    {
      "cell_type": "code",
      "source": [
        "class_weight = {0: 47, 1: 76}"
      ],
      "metadata": {
        "id": "aGWeMVZXJXEh"
      },
      "execution_count": 251,
      "outputs": []
    },
    {
      "cell_type": "markdown",
      "source": [
        "### Skip"
      ],
      "metadata": {
        "id": "W--U-AfqM5nL"
      }
    },
    {
      "cell_type": "code",
      "source": [
        "history = model.fit(X_train, y_train, \n",
        "          epochs=50, \n",
        "          validation_data=(X_test, y_test),\n",
        "          verbose=0,\n",
        "          class_weight=class_weight)"
      ],
      "metadata": {
        "id": "AH4S2NXsICt8"
      },
      "execution_count": 169,
      "outputs": []
    },
    {
      "cell_type": "code",
      "source": [
        "logs = pd.DataFrame(history.history)\n",
        "\n",
        "plt.figure(figsize=(14, 4))\n",
        "plt.subplot(1, 2, 1)\n",
        "plt.plot(logs.loc[5:,\"loss\"], lw=2, label='training loss')\n",
        "plt.plot(logs.loc[5:,\"val_loss\"], lw=2, label='validation loss')\n",
        "plt.xlabel(\"Epoch\")\n",
        "plt.ylabel(\"Loss\")\n",
        "plt.legend()\n",
        "plt.subplot(1, 2, 2)\n",
        "plt.plot(logs.loc[5:,\"auc_2\"], lw=2, label='training ROC AUC score')\n",
        "plt.plot(logs.loc[5:,\"val_auc_2\"], lw=2, label='validation ROC AUC score')\n",
        "plt.xlabel(\"Epoch\")\n",
        "plt.ylabel(\"ROC AUC\")\n",
        "plt.legend(loc='lower right')\n",
        "plt.show()"
      ],
      "metadata": {
        "colab": {
          "base_uri": "https://localhost:8080/",
          "height": 768
        },
        "id": "JS6HKrFbIQ73",
        "outputId": "497423f6-4285-4a02-ad60-e2dad8a176ea"
      },
      "execution_count": 170,
      "outputs": [
        {
          "output_type": "error",
          "ename": "KeyError",
          "evalue": "ignored",
          "traceback": [
            "\u001b[0;31m---------------------------------------------------------------------------\u001b[0m",
            "\u001b[0;31mKeyError\u001b[0m                                  Traceback (most recent call last)",
            "\u001b[0;32m/usr/local/lib/python3.8/dist-packages/pandas/core/indexes/base.py\u001b[0m in \u001b[0;36mget_loc\u001b[0;34m(self, key, method, tolerance)\u001b[0m\n\u001b[1;32m   3360\u001b[0m             \u001b[0;32mtry\u001b[0m\u001b[0;34m:\u001b[0m\u001b[0;34m\u001b[0m\u001b[0;34m\u001b[0m\u001b[0m\n\u001b[0;32m-> 3361\u001b[0;31m                 \u001b[0;32mreturn\u001b[0m \u001b[0mself\u001b[0m\u001b[0;34m.\u001b[0m\u001b[0m_engine\u001b[0m\u001b[0;34m.\u001b[0m\u001b[0mget_loc\u001b[0m\u001b[0;34m(\u001b[0m\u001b[0mcasted_key\u001b[0m\u001b[0;34m)\u001b[0m\u001b[0;34m\u001b[0m\u001b[0;34m\u001b[0m\u001b[0m\n\u001b[0m\u001b[1;32m   3362\u001b[0m             \u001b[0;32mexcept\u001b[0m \u001b[0mKeyError\u001b[0m \u001b[0;32mas\u001b[0m \u001b[0merr\u001b[0m\u001b[0;34m:\u001b[0m\u001b[0;34m\u001b[0m\u001b[0;34m\u001b[0m\u001b[0m\n",
            "\u001b[0;32m/usr/local/lib/python3.8/dist-packages/pandas/_libs/index.pyx\u001b[0m in \u001b[0;36mpandas._libs.index.IndexEngine.get_loc\u001b[0;34m()\u001b[0m\n",
            "\u001b[0;32m/usr/local/lib/python3.8/dist-packages/pandas/_libs/index.pyx\u001b[0m in \u001b[0;36mpandas._libs.index.IndexEngine.get_loc\u001b[0;34m()\u001b[0m\n",
            "\u001b[0;32mpandas/_libs/hashtable_class_helper.pxi\u001b[0m in \u001b[0;36mpandas._libs.hashtable.PyObjectHashTable.get_item\u001b[0;34m()\u001b[0m\n",
            "\u001b[0;32mpandas/_libs/hashtable_class_helper.pxi\u001b[0m in \u001b[0;36mpandas._libs.hashtable.PyObjectHashTable.get_item\u001b[0;34m()\u001b[0m\n",
            "\u001b[0;31mKeyError\u001b[0m: 'auc_2'",
            "\nThe above exception was the direct cause of the following exception:\n",
            "\u001b[0;31mKeyError\u001b[0m                                  Traceback (most recent call last)",
            "\u001b[0;32m<ipython-input-170-116ae2dcd27a>\u001b[0m in \u001b[0;36m<module>\u001b[0;34m\u001b[0m\n\u001b[1;32m      9\u001b[0m \u001b[0mplt\u001b[0m\u001b[0;34m.\u001b[0m\u001b[0mlegend\u001b[0m\u001b[0;34m(\u001b[0m\u001b[0;34m)\u001b[0m\u001b[0;34m\u001b[0m\u001b[0;34m\u001b[0m\u001b[0m\n\u001b[1;32m     10\u001b[0m \u001b[0mplt\u001b[0m\u001b[0;34m.\u001b[0m\u001b[0msubplot\u001b[0m\u001b[0;34m(\u001b[0m\u001b[0;36m1\u001b[0m\u001b[0;34m,\u001b[0m \u001b[0;36m2\u001b[0m\u001b[0;34m,\u001b[0m \u001b[0;36m2\u001b[0m\u001b[0;34m)\u001b[0m\u001b[0;34m\u001b[0m\u001b[0;34m\u001b[0m\u001b[0m\n\u001b[0;32m---> 11\u001b[0;31m \u001b[0mplt\u001b[0m\u001b[0;34m.\u001b[0m\u001b[0mplot\u001b[0m\u001b[0;34m(\u001b[0m\u001b[0mlogs\u001b[0m\u001b[0;34m.\u001b[0m\u001b[0mloc\u001b[0m\u001b[0;34m[\u001b[0m\u001b[0;36m5\u001b[0m\u001b[0;34m:\u001b[0m\u001b[0;34m,\u001b[0m\u001b[0;34m\"auc_2\"\u001b[0m\u001b[0;34m]\u001b[0m\u001b[0;34m,\u001b[0m \u001b[0mlw\u001b[0m\u001b[0;34m=\u001b[0m\u001b[0;36m2\u001b[0m\u001b[0;34m,\u001b[0m \u001b[0mlabel\u001b[0m\u001b[0;34m=\u001b[0m\u001b[0;34m'training ROC AUC score'\u001b[0m\u001b[0;34m)\u001b[0m\u001b[0;34m\u001b[0m\u001b[0;34m\u001b[0m\u001b[0m\n\u001b[0m\u001b[1;32m     12\u001b[0m \u001b[0mplt\u001b[0m\u001b[0;34m.\u001b[0m\u001b[0mplot\u001b[0m\u001b[0;34m(\u001b[0m\u001b[0mlogs\u001b[0m\u001b[0;34m.\u001b[0m\u001b[0mloc\u001b[0m\u001b[0;34m[\u001b[0m\u001b[0;36m5\u001b[0m\u001b[0;34m:\u001b[0m\u001b[0;34m,\u001b[0m\u001b[0;34m\"val_auc_2\"\u001b[0m\u001b[0;34m]\u001b[0m\u001b[0;34m,\u001b[0m \u001b[0mlw\u001b[0m\u001b[0;34m=\u001b[0m\u001b[0;36m2\u001b[0m\u001b[0;34m,\u001b[0m \u001b[0mlabel\u001b[0m\u001b[0;34m=\u001b[0m\u001b[0;34m'validation ROC AUC score'\u001b[0m\u001b[0;34m)\u001b[0m\u001b[0;34m\u001b[0m\u001b[0;34m\u001b[0m\u001b[0m\n\u001b[1;32m     13\u001b[0m \u001b[0mplt\u001b[0m\u001b[0;34m.\u001b[0m\u001b[0mxlabel\u001b[0m\u001b[0;34m(\u001b[0m\u001b[0;34m\"Epoch\"\u001b[0m\u001b[0;34m)\u001b[0m\u001b[0;34m\u001b[0m\u001b[0;34m\u001b[0m\u001b[0m\n",
            "\u001b[0;32m/usr/local/lib/python3.8/dist-packages/pandas/core/indexing.py\u001b[0m in \u001b[0;36m__getitem__\u001b[0;34m(self, key)\u001b[0m\n\u001b[1;32m    923\u001b[0m                 \u001b[0;32mwith\u001b[0m \u001b[0msuppress\u001b[0m\u001b[0;34m(\u001b[0m\u001b[0mKeyError\u001b[0m\u001b[0;34m,\u001b[0m \u001b[0mIndexError\u001b[0m\u001b[0;34m)\u001b[0m\u001b[0;34m:\u001b[0m\u001b[0;34m\u001b[0m\u001b[0;34m\u001b[0m\u001b[0m\n\u001b[1;32m    924\u001b[0m                     \u001b[0;32mreturn\u001b[0m \u001b[0mself\u001b[0m\u001b[0;34m.\u001b[0m\u001b[0mobj\u001b[0m\u001b[0;34m.\u001b[0m\u001b[0m_get_value\u001b[0m\u001b[0;34m(\u001b[0m\u001b[0;34m*\u001b[0m\u001b[0mkey\u001b[0m\u001b[0;34m,\u001b[0m \u001b[0mtakeable\u001b[0m\u001b[0;34m=\u001b[0m\u001b[0mself\u001b[0m\u001b[0;34m.\u001b[0m\u001b[0m_takeable\u001b[0m\u001b[0;34m)\u001b[0m\u001b[0;34m\u001b[0m\u001b[0;34m\u001b[0m\u001b[0m\n\u001b[0;32m--> 925\u001b[0;31m             \u001b[0;32mreturn\u001b[0m \u001b[0mself\u001b[0m\u001b[0;34m.\u001b[0m\u001b[0m_getitem_tuple\u001b[0m\u001b[0;34m(\u001b[0m\u001b[0mkey\u001b[0m\u001b[0;34m)\u001b[0m\u001b[0;34m\u001b[0m\u001b[0;34m\u001b[0m\u001b[0m\n\u001b[0m\u001b[1;32m    926\u001b[0m         \u001b[0;32melse\u001b[0m\u001b[0;34m:\u001b[0m\u001b[0;34m\u001b[0m\u001b[0;34m\u001b[0m\u001b[0m\n\u001b[1;32m    927\u001b[0m             \u001b[0;31m# we by definition only have the 0th axis\u001b[0m\u001b[0;34m\u001b[0m\u001b[0;34m\u001b[0m\u001b[0;34m\u001b[0m\u001b[0m\n",
            "\u001b[0;32m/usr/local/lib/python3.8/dist-packages/pandas/core/indexing.py\u001b[0m in \u001b[0;36m_getitem_tuple\u001b[0;34m(self, tup)\u001b[0m\n\u001b[1;32m   1098\u001b[0m     \u001b[0;32mdef\u001b[0m \u001b[0m_getitem_tuple\u001b[0m\u001b[0;34m(\u001b[0m\u001b[0mself\u001b[0m\u001b[0;34m,\u001b[0m \u001b[0mtup\u001b[0m\u001b[0;34m:\u001b[0m \u001b[0mtuple\u001b[0m\u001b[0;34m)\u001b[0m\u001b[0;34m:\u001b[0m\u001b[0;34m\u001b[0m\u001b[0;34m\u001b[0m\u001b[0m\n\u001b[1;32m   1099\u001b[0m         \u001b[0;32mwith\u001b[0m \u001b[0msuppress\u001b[0m\u001b[0;34m(\u001b[0m\u001b[0mIndexingError\u001b[0m\u001b[0;34m)\u001b[0m\u001b[0;34m:\u001b[0m\u001b[0;34m\u001b[0m\u001b[0;34m\u001b[0m\u001b[0m\n\u001b[0;32m-> 1100\u001b[0;31m             \u001b[0;32mreturn\u001b[0m \u001b[0mself\u001b[0m\u001b[0;34m.\u001b[0m\u001b[0m_getitem_lowerdim\u001b[0m\u001b[0;34m(\u001b[0m\u001b[0mtup\u001b[0m\u001b[0;34m)\u001b[0m\u001b[0;34m\u001b[0m\u001b[0;34m\u001b[0m\u001b[0m\n\u001b[0m\u001b[1;32m   1101\u001b[0m \u001b[0;34m\u001b[0m\u001b[0m\n\u001b[1;32m   1102\u001b[0m         \u001b[0;31m# no multi-index, so validate all of the indexers\u001b[0m\u001b[0;34m\u001b[0m\u001b[0;34m\u001b[0m\u001b[0;34m\u001b[0m\u001b[0m\n",
            "\u001b[0;32m/usr/local/lib/python3.8/dist-packages/pandas/core/indexing.py\u001b[0m in \u001b[0;36m_getitem_lowerdim\u001b[0;34m(self, tup)\u001b[0m\n\u001b[1;32m    836\u001b[0m                 \u001b[0;31m# We don't need to check for tuples here because those are\u001b[0m\u001b[0;34m\u001b[0m\u001b[0;34m\u001b[0m\u001b[0;34m\u001b[0m\u001b[0m\n\u001b[1;32m    837\u001b[0m                 \u001b[0;31m#  caught by the _is_nested_tuple_indexer check above.\u001b[0m\u001b[0;34m\u001b[0m\u001b[0;34m\u001b[0m\u001b[0;34m\u001b[0m\u001b[0m\n\u001b[0;32m--> 838\u001b[0;31m                 \u001b[0msection\u001b[0m \u001b[0;34m=\u001b[0m \u001b[0mself\u001b[0m\u001b[0;34m.\u001b[0m\u001b[0m_getitem_axis\u001b[0m\u001b[0;34m(\u001b[0m\u001b[0mkey\u001b[0m\u001b[0;34m,\u001b[0m \u001b[0maxis\u001b[0m\u001b[0;34m=\u001b[0m\u001b[0mi\u001b[0m\u001b[0;34m)\u001b[0m\u001b[0;34m\u001b[0m\u001b[0;34m\u001b[0m\u001b[0m\n\u001b[0m\u001b[1;32m    839\u001b[0m \u001b[0;34m\u001b[0m\u001b[0m\n\u001b[1;32m    840\u001b[0m                 \u001b[0;31m# We should never have a scalar section here, because\u001b[0m\u001b[0;34m\u001b[0m\u001b[0;34m\u001b[0m\u001b[0;34m\u001b[0m\u001b[0m\n",
            "\u001b[0;32m/usr/local/lib/python3.8/dist-packages/pandas/core/indexing.py\u001b[0m in \u001b[0;36m_getitem_axis\u001b[0;34m(self, key, axis)\u001b[0m\n\u001b[1;32m   1162\u001b[0m         \u001b[0;31m# fall thru to straight lookup\u001b[0m\u001b[0;34m\u001b[0m\u001b[0;34m\u001b[0m\u001b[0;34m\u001b[0m\u001b[0m\n\u001b[1;32m   1163\u001b[0m         \u001b[0mself\u001b[0m\u001b[0;34m.\u001b[0m\u001b[0m_validate_key\u001b[0m\u001b[0;34m(\u001b[0m\u001b[0mkey\u001b[0m\u001b[0;34m,\u001b[0m \u001b[0maxis\u001b[0m\u001b[0;34m)\u001b[0m\u001b[0;34m\u001b[0m\u001b[0;34m\u001b[0m\u001b[0m\n\u001b[0;32m-> 1164\u001b[0;31m         \u001b[0;32mreturn\u001b[0m \u001b[0mself\u001b[0m\u001b[0;34m.\u001b[0m\u001b[0m_get_label\u001b[0m\u001b[0;34m(\u001b[0m\u001b[0mkey\u001b[0m\u001b[0;34m,\u001b[0m \u001b[0maxis\u001b[0m\u001b[0;34m=\u001b[0m\u001b[0maxis\u001b[0m\u001b[0;34m)\u001b[0m\u001b[0;34m\u001b[0m\u001b[0;34m\u001b[0m\u001b[0m\n\u001b[0m\u001b[1;32m   1165\u001b[0m \u001b[0;34m\u001b[0m\u001b[0m\n\u001b[1;32m   1166\u001b[0m     \u001b[0;32mdef\u001b[0m \u001b[0m_get_slice_axis\u001b[0m\u001b[0;34m(\u001b[0m\u001b[0mself\u001b[0m\u001b[0;34m,\u001b[0m \u001b[0mslice_obj\u001b[0m\u001b[0;34m:\u001b[0m \u001b[0mslice\u001b[0m\u001b[0;34m,\u001b[0m \u001b[0maxis\u001b[0m\u001b[0;34m:\u001b[0m \u001b[0mint\u001b[0m\u001b[0;34m)\u001b[0m\u001b[0;34m:\u001b[0m\u001b[0;34m\u001b[0m\u001b[0;34m\u001b[0m\u001b[0m\n",
            "\u001b[0;32m/usr/local/lib/python3.8/dist-packages/pandas/core/indexing.py\u001b[0m in \u001b[0;36m_get_label\u001b[0;34m(self, label, axis)\u001b[0m\n\u001b[1;32m   1111\u001b[0m     \u001b[0;32mdef\u001b[0m \u001b[0m_get_label\u001b[0m\u001b[0;34m(\u001b[0m\u001b[0mself\u001b[0m\u001b[0;34m,\u001b[0m \u001b[0mlabel\u001b[0m\u001b[0;34m,\u001b[0m \u001b[0maxis\u001b[0m\u001b[0;34m:\u001b[0m \u001b[0mint\u001b[0m\u001b[0;34m)\u001b[0m\u001b[0;34m:\u001b[0m\u001b[0;34m\u001b[0m\u001b[0;34m\u001b[0m\u001b[0m\n\u001b[1;32m   1112\u001b[0m         \u001b[0;31m# GH#5667 this will fail if the label is not present in the axis.\u001b[0m\u001b[0;34m\u001b[0m\u001b[0;34m\u001b[0m\u001b[0;34m\u001b[0m\u001b[0m\n\u001b[0;32m-> 1113\u001b[0;31m         \u001b[0;32mreturn\u001b[0m \u001b[0mself\u001b[0m\u001b[0;34m.\u001b[0m\u001b[0mobj\u001b[0m\u001b[0;34m.\u001b[0m\u001b[0mxs\u001b[0m\u001b[0;34m(\u001b[0m\u001b[0mlabel\u001b[0m\u001b[0;34m,\u001b[0m \u001b[0maxis\u001b[0m\u001b[0;34m=\u001b[0m\u001b[0maxis\u001b[0m\u001b[0;34m)\u001b[0m\u001b[0;34m\u001b[0m\u001b[0;34m\u001b[0m\u001b[0m\n\u001b[0m\u001b[1;32m   1114\u001b[0m \u001b[0;34m\u001b[0m\u001b[0m\n\u001b[1;32m   1115\u001b[0m     \u001b[0;32mdef\u001b[0m \u001b[0m_handle_lowerdim_multi_index_axis0\u001b[0m\u001b[0;34m(\u001b[0m\u001b[0mself\u001b[0m\u001b[0;34m,\u001b[0m \u001b[0mtup\u001b[0m\u001b[0;34m:\u001b[0m \u001b[0mtuple\u001b[0m\u001b[0;34m)\u001b[0m\u001b[0;34m:\u001b[0m\u001b[0;34m\u001b[0m\u001b[0;34m\u001b[0m\u001b[0m\n",
            "\u001b[0;32m/usr/local/lib/python3.8/dist-packages/pandas/core/generic.py\u001b[0m in \u001b[0;36mxs\u001b[0;34m(self, key, axis, level, drop_level)\u001b[0m\n\u001b[1;32m   3759\u001b[0m         \u001b[0;32mif\u001b[0m \u001b[0maxis\u001b[0m \u001b[0;34m==\u001b[0m \u001b[0;36m1\u001b[0m\u001b[0;34m:\u001b[0m\u001b[0;34m\u001b[0m\u001b[0;34m\u001b[0m\u001b[0m\n\u001b[1;32m   3760\u001b[0m             \u001b[0;32mif\u001b[0m \u001b[0mdrop_level\u001b[0m\u001b[0;34m:\u001b[0m\u001b[0;34m\u001b[0m\u001b[0;34m\u001b[0m\u001b[0m\n\u001b[0;32m-> 3761\u001b[0;31m                 \u001b[0;32mreturn\u001b[0m \u001b[0mself\u001b[0m\u001b[0;34m[\u001b[0m\u001b[0mkey\u001b[0m\u001b[0;34m]\u001b[0m\u001b[0;34m\u001b[0m\u001b[0;34m\u001b[0m\u001b[0m\n\u001b[0m\u001b[1;32m   3762\u001b[0m             \u001b[0mindex\u001b[0m \u001b[0;34m=\u001b[0m \u001b[0mself\u001b[0m\u001b[0;34m.\u001b[0m\u001b[0mcolumns\u001b[0m\u001b[0;34m\u001b[0m\u001b[0;34m\u001b[0m\u001b[0m\n\u001b[1;32m   3763\u001b[0m         \u001b[0;32melse\u001b[0m\u001b[0;34m:\u001b[0m\u001b[0;34m\u001b[0m\u001b[0;34m\u001b[0m\u001b[0m\n",
            "\u001b[0;32m/usr/local/lib/python3.8/dist-packages/pandas/core/frame.py\u001b[0m in \u001b[0;36m__getitem__\u001b[0;34m(self, key)\u001b[0m\n\u001b[1;32m   3456\u001b[0m             \u001b[0;32mif\u001b[0m \u001b[0mself\u001b[0m\u001b[0;34m.\u001b[0m\u001b[0mcolumns\u001b[0m\u001b[0;34m.\u001b[0m\u001b[0mnlevels\u001b[0m \u001b[0;34m>\u001b[0m \u001b[0;36m1\u001b[0m\u001b[0;34m:\u001b[0m\u001b[0;34m\u001b[0m\u001b[0;34m\u001b[0m\u001b[0m\n\u001b[1;32m   3457\u001b[0m                 \u001b[0;32mreturn\u001b[0m \u001b[0mself\u001b[0m\u001b[0;34m.\u001b[0m\u001b[0m_getitem_multilevel\u001b[0m\u001b[0;34m(\u001b[0m\u001b[0mkey\u001b[0m\u001b[0;34m)\u001b[0m\u001b[0;34m\u001b[0m\u001b[0;34m\u001b[0m\u001b[0m\n\u001b[0;32m-> 3458\u001b[0;31m             \u001b[0mindexer\u001b[0m \u001b[0;34m=\u001b[0m \u001b[0mself\u001b[0m\u001b[0;34m.\u001b[0m\u001b[0mcolumns\u001b[0m\u001b[0;34m.\u001b[0m\u001b[0mget_loc\u001b[0m\u001b[0;34m(\u001b[0m\u001b[0mkey\u001b[0m\u001b[0;34m)\u001b[0m\u001b[0;34m\u001b[0m\u001b[0;34m\u001b[0m\u001b[0m\n\u001b[0m\u001b[1;32m   3459\u001b[0m             \u001b[0;32mif\u001b[0m \u001b[0mis_integer\u001b[0m\u001b[0;34m(\u001b[0m\u001b[0mindexer\u001b[0m\u001b[0;34m)\u001b[0m\u001b[0;34m:\u001b[0m\u001b[0;34m\u001b[0m\u001b[0;34m\u001b[0m\u001b[0m\n\u001b[1;32m   3460\u001b[0m                 \u001b[0mindexer\u001b[0m \u001b[0;34m=\u001b[0m \u001b[0;34m[\u001b[0m\u001b[0mindexer\u001b[0m\u001b[0;34m]\u001b[0m\u001b[0;34m\u001b[0m\u001b[0;34m\u001b[0m\u001b[0m\n",
            "\u001b[0;32m/usr/local/lib/python3.8/dist-packages/pandas/core/indexes/base.py\u001b[0m in \u001b[0;36mget_loc\u001b[0;34m(self, key, method, tolerance)\u001b[0m\n\u001b[1;32m   3361\u001b[0m                 \u001b[0;32mreturn\u001b[0m \u001b[0mself\u001b[0m\u001b[0;34m.\u001b[0m\u001b[0m_engine\u001b[0m\u001b[0;34m.\u001b[0m\u001b[0mget_loc\u001b[0m\u001b[0;34m(\u001b[0m\u001b[0mcasted_key\u001b[0m\u001b[0;34m)\u001b[0m\u001b[0;34m\u001b[0m\u001b[0;34m\u001b[0m\u001b[0m\n\u001b[1;32m   3362\u001b[0m             \u001b[0;32mexcept\u001b[0m \u001b[0mKeyError\u001b[0m \u001b[0;32mas\u001b[0m \u001b[0merr\u001b[0m\u001b[0;34m:\u001b[0m\u001b[0;34m\u001b[0m\u001b[0;34m\u001b[0m\u001b[0m\n\u001b[0;32m-> 3363\u001b[0;31m                 \u001b[0;32mraise\u001b[0m \u001b[0mKeyError\u001b[0m\u001b[0;34m(\u001b[0m\u001b[0mkey\u001b[0m\u001b[0;34m)\u001b[0m \u001b[0;32mfrom\u001b[0m \u001b[0merr\u001b[0m\u001b[0;34m\u001b[0m\u001b[0;34m\u001b[0m\u001b[0m\n\u001b[0m\u001b[1;32m   3364\u001b[0m \u001b[0;34m\u001b[0m\u001b[0m\n\u001b[1;32m   3365\u001b[0m         \u001b[0;32mif\u001b[0m \u001b[0mis_scalar\u001b[0m\u001b[0;34m(\u001b[0m\u001b[0mkey\u001b[0m\u001b[0;34m)\u001b[0m \u001b[0;32mand\u001b[0m \u001b[0misna\u001b[0m\u001b[0;34m(\u001b[0m\u001b[0mkey\u001b[0m\u001b[0;34m)\u001b[0m \u001b[0;32mand\u001b[0m \u001b[0;32mnot\u001b[0m \u001b[0mself\u001b[0m\u001b[0;34m.\u001b[0m\u001b[0mhasnans\u001b[0m\u001b[0;34m:\u001b[0m\u001b[0;34m\u001b[0m\u001b[0;34m\u001b[0m\u001b[0m\n",
            "\u001b[0;31mKeyError\u001b[0m: 'auc_2'"
          ]
        },
        {
          "output_type": "display_data",
          "data": {
            "text/plain": [
              "<Figure size 1008x288 with 2 Axes>"
            ],
            "image/png": "[encoded data removed]"
          },
          "metadata": {
            "needs_background": "light"
          }
        }
      ]
    },
    {
      "cell_type": "markdown",
      "source": [
        "### Continue"
      ],
      "metadata": {
        "id": "5pvjXjitM9Pr"
      }
    },
    {
      "cell_type": "code",
      "source": [
        "from tensorflow.keras.callbacks import EarlyStopping\n",
        "\n",
        "early_stopping = EarlyStopping(\n",
        "    min_delta = 0.0002, # minimium amount of change to count as an improvement\n",
        "    patience  = 20,     # how many epochs to wait before stopping\n",
        "    restore_best_weights=True,\n",
        ")"
      ],
      "metadata": {
        "id": "XItSwQDlIU-m"
      },
      "execution_count": 252,
      "outputs": []
    },
    {
      "cell_type": "code",
      "source": [
        "history = model.fit(X_train, y_train, \n",
        "          epochs=1000,\n",
        "          batch_size=32, \n",
        "          validation_data=(X_test, y_test),\n",
        "          verbose=0,\n",
        "          # add in our early stopping callback\n",
        "          callbacks=[early_stopping],\n",
        "          class_weight=class_weight\n",
        "        )"
      ],
      "metadata": {
        "id": "MJn2eMr-IYBt"
      },
      "execution_count": 253,
      "outputs": []
    },
    {
      "cell_type": "code",
      "source": [
        "logs = pd.DataFrame(history.history)\n",
        "logs"
      ],
      "metadata": {
        "colab": {
          "base_uri": "https://localhost:8080/",
          "height": 423
        },
        "id": "51-vlj5xMtA5",
        "outputId": "7a8c1276-dce5-424e-cbce-37ec5a6df73d"
      },
      "execution_count": 254,
      "outputs": [
        {
          "output_type": "execute_result",
          "data": {
            "text/plain": [
              "          loss    auc_10  val_loss  val_auc_10\n",
              "0    44.284039  0.636028  0.702906    0.360294\n",
              "1    44.751614  0.540852  0.702270    0.319853\n",
              "2    44.733192  0.513038  0.701680    0.312500\n",
              "3    44.716980  0.536506  0.701301    0.316176\n",
              "4    44.323578  0.613864  0.700964    0.319853\n",
              "..         ...       ...       ...         ...\n",
              "535  21.679745  0.946980  0.557901    0.731618\n",
              "536  21.429493  0.960017  0.557754    0.731618\n",
              "537  23.989275  0.910256  0.557575    0.735294\n",
              "538  22.233393  0.946545  0.557343    0.731618\n",
              "539  22.515734  0.934159  0.556197    0.731618\n",
              "\n",
              "[540 rows x 4 columns]"
            ],
            "text/html": [
              "\n",
              "  <div id=\"df-9703dc2e-1074-4851-9f60-1da8d165d9ef\">\n",
              "    <div class=\"colab-df-container\">\n",
              "      <div>\n",
              "<style scoped>\n",
              "    .dataframe tbody tr th:only-of-type {\n",
              "        vertical-align: middle;\n",
              "    }\n",
              "\n",
              "    .dataframe tbody tr th {\n",
              "        vertical-align: top;\n",
              "    }\n",
              "\n",
              "    .dataframe thead th {\n",
              "        text-align: right;\n",
              "    }\n",
              "</style>\n",
              "<table border=\"1\" class=\"dataframe\">\n",
              "  <thead>\n",
              "    <tr style=\"text-align: right;\">\n",
              "      <th></th>\n",
              "      <th>loss</th>\n",
              "      <th>auc_10</th>\n",
              "      <th>val_loss</th>\n",
              "      <th>val_auc_10</th>\n",
              "    </tr>\n",
              "  </thead>\n",
              "  <tbody>\n",
              "    <tr>\n",
              "      <th>0</th>\n",
              "      <td>44.284039</td>\n",
              "      <td>0.636028</td>\n",
              "      <td>0.702906</td>\n",
              "      <td>0.360294</td>\n",
              "    </tr>\n",
              "    <tr>\n",
              "      <th>1</th>\n",
              "      <td>44.751614</td>\n",
              "      <td>0.540852</td>\n",
              "      <td>0.702270</td>\n",
              "      <td>0.319853</td>\n",
              "    </tr>\n",
              "    <tr>\n",
              "      <th>2</th>\n",
              "      <td>44.733192</td>\n",
              "      <td>0.513038</td>\n",
              "      <td>0.701680</td>\n",
              "      <td>0.312500</td>\n",
              "    </tr>\n",
              "    <tr>\n",
              "      <th>3</th>\n",
              "      <td>44.716980</td>\n",
              "      <td>0.536506</td>\n",
              "      <td>0.701301</td>\n",
              "      <td>0.316176</td>\n",
              "    </tr>\n",
              "    <tr>\n",
              "      <th>4</th>\n",
              "      <td>44.323578</td>\n",
              "      <td>0.613864</td>\n",
              "      <td>0.700964</td>\n",
              "      <td>0.319853</td>\n",
              "    </tr>\n",
              "    <tr>\n",
              "      <th>...</th>\n",
              "      <td>...</td>\n",
              "      <td>...</td>\n",
              "      <td>...</td>\n",
              "      <td>...</td>\n",
              "    </tr>\n",
              "    <tr>\n",
              "      <th>535</th>\n",
              "      <td>21.679745</td>\n",
              "      <td>0.946980</td>\n",
              "      <td>0.557901</td>\n",
              "      <td>0.731618</td>\n",
              "    </tr>\n",
              "    <tr>\n",
              "      <th>536</th>\n",
              "      <td>21.429493</td>\n",
              "      <td>0.960017</td>\n",
              "      <td>0.557754</td>\n",
              "      <td>0.731618</td>\n",
              "    </tr>\n",
              "    <tr>\n",
              "      <th>537</th>\n",
              "      <td>23.989275</td>\n",
              "      <td>0.910256</td>\n",
              "      <td>0.557575</td>\n",
              "      <td>0.735294</td>\n",
              "    </tr>\n",
              "    <tr>\n",
              "      <th>538</th>\n",
              "      <td>22.233393</td>\n",
              "      <td>0.946545</td>\n",
              "      <td>0.557343</td>\n",
              "      <td>0.731618</td>\n",
              "    </tr>\n",
              "    <tr>\n",
              "      <th>539</th>\n",
              "      <td>22.515734</td>\n",
              "      <td>0.934159</td>\n",
              "      <td>0.556197</td>\n",
              "      <td>0.731618</td>\n",
              "    </tr>\n",
              "  </tbody>\n",
              "</table>\n",
              "<p>540 rows × 4 columns</p>\n",
              "</div>\n",
              "      <button class=\"colab-df-convert\" onclick=\"convertToInteractive('df-9703dc2e-1074-4851-9f60-1da8d165d9ef')\"\n",
              "              title=\"Convert this dataframe to an interactive table.\"\n",
              "              style=\"display:none;\">\n",
              "        \n",
              "  <svg xmlns=\"http://www.w3.org/2000/svg\" height=\"24px\"viewBox=\"0 0 24 24\"\n",
              "       width=\"24px\">\n",
              "    <path d=\"M0 0h24v24H0V0z\" fill=\"none\"/>\n",
              "    <path d=\"M18.56 5.44l.94 2.06.94-2.06 2.06-.94-2.06-.94-.94-2.06-.94 2.06-2.06.94zm-11 1L8.5 8.5l.94-2.06 2.06-.94-2.06-.94L8.5 2.5l-.94 2.06-2.06.94zm10 10l.94 2.06.94-2.06 2.06-.94-2.06-.94-.94-2.06-.94 2.06-2.06.94z\"/><path d=\"M17.41 7.96l-1.37-1.37c-.4-.4-.92-.59-1.43-.59-.52 0-1.04.2-1.43.59L10.3 9.45l-7.72 7.72c-.78.78-.78 2.05 0 2.83L4 21.41c.39.39.9.59 1.41.59.51 0 1.02-.2 1.41-.59l7.78-7.78 2.81-2.81c.8-.78.8-2.07 0-2.86zM5.41 20L4 18.59l7.72-7.72 1.47 1.35L5.41 20z\"/>\n",
              "  </svg>\n",
              "      </button>\n",
              "      \n",
              "  <style>\n",
              "    .colab-df-container {\n",
              "      display:flex;\n",
              "      flex-wrap:wrap;\n",
              "      gap: 12px;\n",
              "    }\n",
              "\n",
              "    .colab-df-convert {\n",
              "      background-color: #E8F0FE;\n",
              "      border: none;\n",
              "      border-radius: 50%;\n",
              "      cursor: pointer;\n",
              "      display: none;\n",
              "      fill: #1967D2;\n",
              "      height: 32px;\n",
              "      padding: 0 0 0 0;\n",
              "      width: 32px;\n",
              "    }\n",
              "\n",
              "    .colab-df-convert:hover {\n",
              "      background-color: #E2EBFA;\n",
              "      box-shadow: 0px 1px 2px rgba(60, 64, 67, 0.3), 0px 1px 3px 1px rgba(60, 64, 67, 0.15);\n",
              "      fill: #174EA6;\n",
              "    }\n",
              "\n",
              "    [theme=dark] .colab-df-convert {\n",
              "      background-color: #3B4455;\n",
              "      fill: #D2E3FC;\n",
              "    }\n",
              "\n",
              "    [theme=dark] .colab-df-convert:hover {\n",
              "      background-color: #434B5C;\n",
              "      box-shadow: 0px 1px 3px 1px rgba(0, 0, 0, 0.15);\n",
              "      filter: drop-shadow(0px 1px 2px rgba(0, 0, 0, 0.3));\n",
              "      fill: #FFFFFF;\n",
              "    }\n",
              "  </style>\n",
              "\n",
              "      <script>\n",
              "        const buttonEl =\n",
              "          document.querySelector('#df-9703dc2e-1074-4851-9f60-1da8d165d9ef button.colab-df-convert');\n",
              "        buttonEl.style.display =\n",
              "          google.colab.kernel.accessAllowed ? 'block' : 'none';\n",
              "\n",
              "        async function convertToInteractive(key) {\n",
              "          const element = document.querySelector('#df-9703dc2e-1074-4851-9f60-1da8d165d9ef');\n",
              "          const dataTable =\n",
              "            await google.colab.kernel.invokeFunction('convertToInteractive',\n",
              "                                                     [key], {});\n",
              "          if (!dataTable) return;\n",
              "\n",
              "          const docLinkHtml = 'Like what you see? Visit the ' +\n",
              "            '<a target=\"_blank\" href=https://colab.research.google.com/notebooks/data_table.ipynb>data table notebook</a>'\n",
              "            + ' to learn more about interactive tables.';\n",
              "          element.innerHTML = '';\n",
              "          dataTable['output_type'] = 'display_data';\n",
              "          await google.colab.output.renderOutput(dataTable, element);\n",
              "          const docLink = document.createElement('div');\n",
              "          docLink.innerHTML = docLinkHtml;\n",
              "          element.appendChild(docLink);\n",
              "        }\n",
              "      </script>\n",
              "    </div>\n",
              "  </div>\n",
              "  "
            ]
          },
          "metadata": {},
          "execution_count": 254
        }
      ]
    },
    {
      "cell_type": "code",
      "source": [
        "plt.figure(figsize=(14, 4))\n",
        "plt.subplot(1, 2, 1)\n",
        "plt.plot(logs.loc[5:,\"loss\"], lw=2, label='training loss')\n",
        "plt.plot(logs.loc[5:,\"val_loss\"], lw=2, label='validation loss')\n",
        "plt.xlabel(\"Epoch\")\n",
        "plt.ylabel(\"Loss\")\n",
        "plt.legend()\n",
        "plt.subplot(1, 2, 2)\n",
        "plt.plot(logs.loc[5:, logs.columns[1]], lw=2, label='training ROC AUC score')\n",
        "plt.plot(logs.loc[5:, logs.columns[3]], lw=2, label='validation ROC AUC score')\n",
        "plt.xlabel(\"Epoch\")\n",
        "plt.ylabel(\"ROC AUC\")\n",
        "plt.legend(loc='lower right')\n",
        "plt.show()"
      ],
      "metadata": {
        "colab": {
          "base_uri": "https://localhost:8080/",
          "height": 279
        },
        "id": "IGHHeq9KIk4c",
        "outputId": "0d9fd454-1fcb-4c1a-8bee-a9f75ff00fc6"
      },
      "execution_count": 223,
      "outputs": [
        {
          "output_type": "display_data",
          "data": {
            "text/plain": [
              "<Figure size 1008x288 with 2 Axes>"
            ],
            "image/png": "[encoded data removed]"
          },
          "metadata": {
            "needs_background": "light"
          }
        }
      ]
    },
    {
      "cell_type": "markdown",
      "source": [
        "ROC AUC is below 87% for Neural Networks, compared to simple logistic regression achieving over 90% easily without hyperparameter tuning."
      ],
      "metadata": {
        "id": "vGV4jMuHJhKd"
      }
    },
    {
      "cell_type": "code",
      "source": [
        "y_prediction = model.predict(X_test)\n",
        "y_prediction = np.argmax (y_prediction, axis = 1)\n",
        "#Create confusion matrix and normalizes it over predicted (columns)\n",
        "confusion_matrix(y_test, y_prediction)"
      ],
      "metadata": {
        "colab": {
          "base_uri": "https://localhost:8080/"
        },
        "id": "4NsxqoXaJBJI",
        "outputId": "91f9da23-3e8b-4be6-b531-535ef0b54abb"
      },
      "execution_count": 171,
      "outputs": [
        {
          "output_type": "stream",
          "name": "stdout",
          "text": [
            "1/1 [==============================] - 0s 67ms/step\n"
          ]
        },
        {
          "output_type": "execute_result",
          "data": {
            "text/plain": [
              "array([[ 8,  0],\n",
              "       [17,  0]])"
            ]
          },
          "metadata": {},
          "execution_count": 171
        }
      ]
    },
    {
      "cell_type": "markdown",
      "source": [
        "### Comparison and Results"
      ],
      "metadata": {
        "id": "O28hurTh5bHo"
      }
    },
    {
      "cell_type": "markdown",
      "source": [
        "87% ROC AUC score for NNs when predicting FATAL/NOTFATAL"
      ],
      "metadata": {
        "id": "a8hO-PgVItPq"
      }
    },
    {
      "cell_type": "markdown",
      "source": [
        "## Conclusion"
      ],
      "metadata": {
        "id": "0glY5uYS5d25"
      }
    },
    {
      "cell_type": "code",
      "source": [],
      "metadata": {
        "id": "gKaEbX8F19TK"
      },
      "execution_count": null,
      "outputs": []
    }
  ]
}